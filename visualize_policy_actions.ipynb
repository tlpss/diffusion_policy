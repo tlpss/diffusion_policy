{
 "cells": [
  {
   "cell_type": "code",
   "execution_count": 1,
   "metadata": {},
   "outputs": [],
   "source": [
    "%load_ext autoreload\n",
    "%autoreload 2\n"
   ]
  },
  {
   "cell_type": "code",
   "execution_count": 2,
   "metadata": {},
   "outputs": [
    {
     "name": "stderr",
     "output_type": "stream",
     "text": [
      "/home/tlips/.conda/envs/robodiff/lib/python3.9/site-packages/tqdm/auto.py:22: TqdmWarning: IProgress not found. Please update jupyter and ipywidgets. See https://ipywidgets.readthedocs.io/en/stable/user_install.html\n",
      "  from .autonotebook import tqdm as notebook_tqdm\n"
     ]
    }
   ],
   "source": [
    "\n",
    "from diffusion_policy.dataset.real_image_dataset import RealImageDataset\n",
    "from torchvision import transforms"
   ]
  },
  {
   "cell_type": "code",
   "execution_count": 3,
   "metadata": {},
   "outputs": [
    {
     "data": {
      "text/plain": [
       "True"
      ]
     },
     "execution_count": 3,
     "metadata": {},
     "output_type": "execute_result"
    }
   ],
   "source": [
    "dataset_path = \"/home/tlips/Code/diffusion_policy/data/demo_place-cb-val\"\n",
    "dataset_path = \"/home/tlips/Code/diffusion_policy/data/demo_place-cb-val\"\n",
    "import os\n",
    "os.path.exists(dataset_path)\n"
   ]
  },
  {
   "cell_type": "code",
   "execution_count": 5,
   "metadata": {},
   "outputs": [
    {
     "name": "stdout",
     "output_type": "stream",
     "text": [
      "Replay buffer shape meta:\n",
      "{'obs': {'camera_0': {'shape': [3, 224, 224], 'type': 'rgb'}, 'camera_1': {'shape': [3, 224, 224], 'type': 'rgb'}, 'robot_eef_pose_6d_rot': {'shape': [9], 'type': 'low_dim'}, 'gripper_width': {'shape': [1], 'type': 'low_dim'}}, 'action': {'shape': [10]}}\n",
      "Acquiring lock on cache.\n",
      "Loading cached ReplayBuffer from Disk.\n",
      "Loaded!\n",
      "image_keys: ['camera_0', 'camera_1']\n"
     ]
    }
   ],
   "source": [
    "n_latency_steps = 0\n",
    "n_obs_steps = 2\n",
    "n_action_steps = 8\n",
    "horizon = 16\n",
    "\n",
    "shape_meta = {\n",
    "    \"obs\": {\n",
    "        \"camera_0\": {\n",
    "            \"shape\": [3, 224, 224],\n",
    "            \"type\": \"rgb\"\n",
    "        },\n",
    "        \"camera_1\": {\n",
    "            \"shape\": [3, 224, 224],\n",
    "            \"type\": \"rgb\"\n",
    "        },\n",
    "        \"robot_eef_pose_6d_rot\": {\n",
    "            \"shape\": [9],\n",
    "            \"type\": \"low_dim\"\n",
    "        },\n",
    "        \"gripper_width\": {\n",
    "            \"shape\": [1],\n",
    "            \"type\": \"low_dim\"\n",
    "        }\n",
    "    },\n",
    "    \"action\": {\n",
    "        \"shape\": [10]\n",
    "    }\n",
    "}\n",
    "\n",
    "from omegaconf import OmegaConf\n",
    "shape_meta = OmegaConf.create(shape_meta)\n",
    "\n",
    "dataset = RealImageDataset(shape_meta=shape_meta, dataset_path=dataset_path, image_buffer_resolution=[240,240],\n",
    " horizon=horizon, pad_before=n_obs_steps-1+n_latency_steps, pad_after=n_action_steps-1, n_obs_steps=n_obs_steps, n_latency_steps=n_latency_steps, \n",
    "use_cache=True, seed=42, val_ratio=0.1, max_train_episodes=None,\n",
    " delta_action=False,\n",
    " image_transforms=[transforms.Resize(240),transforms.RandomCrop(224),transforms.ColorJitter()])"
   ]
  },
  {
   "cell_type": "code",
   "execution_count": null,
   "metadata": {},
   "outputs": [
    {
     "name": "stdout",
     "output_type": "stream",
     "text": [
      "camera_0 torch.Size([2, 3, 224, 224])\n",
      "camera_1 torch.Size([2, 3, 224, 224])\n",
      "robot_eef_pose_6d_rot torch.Size([2, 9])\n",
      "gripper_width torch.Size([2, 1])\n",
      "action torch.Size([16, 10])\n"
     ]
    }
   ],
   "source": [
    "x = dataset[10]\n",
    "obs = x[\"obs\"]\n",
    "action = x[\"action\"]\n",
    "for k in obs:\n",
    "    print(k, obs[k].shape)\n",
    "print(\"action\",action.shape)\n"
   ]
  },
  {
   "cell_type": "code",
   "execution_count": 7,
   "metadata": {},
   "outputs": [
    {
     "name": "stdout",
     "output_type": "stream",
     "text": [
      "738\n"
     ]
    },
    {
     "data": {
      "text/plain": [
       "/\n",
       " ├── data\n",
       " │   ├── action (917, 10) float64\n",
       " │   ├── camera_0 (917, 256, 256, 3) uint8\n",
       " │   ├── camera_1 (917, 256, 256, 3) uint8\n",
       " │   ├── gripper_width (917, 1) float64\n",
       " │   └── robot_eef_pose_6d_rot (917, 9) float64\n",
       " └── meta\n",
       "     └── episode_ends (7,) int64"
      ]
     },
     "execution_count": 7,
     "metadata": {},
     "output_type": "execute_result"
    }
   ],
   "source": [
    "print(len(dataset))\n",
    "dataset.replay_buffer"
   ]
  },
  {
   "cell_type": "code",
   "execution_count": 28,
   "metadata": {},
   "outputs": [
    {
     "name": "stdout",
     "output_type": "stream",
     "text": [
      "image_keys: ['camera_0', 'camera_1']\n",
      "738\n"
     ]
    },
    {
     "data": {
      "text/plain": [
       "/\n",
       " ├── data\n",
       " │   ├── action (917, 10) float64\n",
       " │   ├── camera_0 (917, 256, 256, 3) uint8\n",
       " │   ├── camera_1 (917, 256, 256, 3) uint8\n",
       " │   ├── gripper_width (917, 1) float64\n",
       " │   └── robot_eef_pose_6d_rot (917, 9) float64\n",
       " └── meta\n",
       "     └── episode_ends (7,) int64"
      ]
     },
     "execution_count": 28,
     "metadata": {},
     "output_type": "execute_result"
    }
   ],
   "source": [
    "val_dataset = dataset.get_validation_dataset()\n",
    "print(len(dataset))\n",
    "dataset.replay_buffer"
   ]
  },
  {
   "cell_type": "markdown",
   "metadata": {},
   "source": []
  },
  {
   "cell_type": "code",
   "execution_count": 8,
   "metadata": {},
   "outputs": [
    {
     "name": "stdout",
     "output_type": "stream",
     "text": [
      "observation encoder lr =0.0002\n",
      "model has114.99521 M params\n",
      "observation encoder has 22.353024 M params\n",
      "action model has 92.642186 M params\n"
     ]
    }
   ],
   "source": [
    "checkpoint_path = \"/home/tlips/Code/diffusion_policy/data/outputs/2025.02.06/18.44.43_train_diffusion_unet_image_real_image/checkpoints/epoch=0550-train_loss=0.001.ckpt\"\n",
    "omaga_config_path =\"/home/tlips/Code/diffusion_policy/data/outputs/2025.02.12/22.37.02_train_diffusion_unet_image_real_image/.hydra/config.yaml\"\n",
    "\n",
    "checkpoint_path =\"/home/tlips/Code/diffusion_policy/data/outputs/2025.02.15/00.07.10_train_diffusion_unet_image_real_image/checkpoints/epoch=0250-train_loss=0.002.ckpt\"\n",
    "omega_config_path = \"/home/tlips/Code/diffusion_policy/data/outputs/2025.02.15/00.07.10_train_diffusion_unet_image_real_image/.hydra/config.yaml\"\n",
    "\n",
    "import dill\n",
    "import torch\n",
    "import hydra\n",
    "from diffusion_policy.workspace.base_workspace import BaseWorkspace\n",
    "import numpy as np\n",
    "payload = torch.load(open(checkpoint_path, 'rb'), pickle_module=dill)\n",
    "cfg = payload['cfg']\n",
    "cls = hydra.utils.get_class(cfg._target_)\n",
    "workspace = cls(cfg)\n",
    "workspace: BaseWorkspace\n",
    "workspace.load_payload(payload, exclude_keys=None, include_keys=None)\n",
    "\n"
   ]
  },
  {
   "cell_type": "code",
   "execution_count": 9,
   "metadata": {},
   "outputs": [],
   "source": [
    "policy = workspace.model\n",
    "device = \"cuda:0\"\n",
    "policy.eval().to(device)\n",
    "\n",
    "# set inference params\n",
    "policy.num_inference_steps = 16 # DDIM inference iterations\n",
    "policy.n_action_steps = policy.horizon - policy.n_obs_steps + 1\n"
   ]
  },
  {
   "cell_type": "code",
   "execution_count": null,
   "metadata": {},
   "outputs": [],
   "source": []
  },
  {
   "cell_type": "code",
   "execution_count": 10,
   "metadata": {},
   "outputs": [
    {
     "name": "stdout",
     "output_type": "stream",
     "text": [
      "[[228.425        0.         161.1       ]\n",
      " [  0.         304.03333333 123.26666667]\n",
      " [  0.           0.           1.        ]]\n",
      "[[ 0.03116101  0.74163332 -0.67008134  0.54775355]\n",
      " [ 0.99787192  0.01533414  0.06337589 -0.46297955]\n",
      " [ 0.05727679 -0.67063021 -0.73957724  0.48870447]\n",
      " [ 0.          0.          0.          1.        ]]\n"
     ]
    }
   ],
   "source": [
    "fx = 913.7\n",
    "fy = 912.1\n",
    "cx = 644.4\n",
    "cy = 369.8\n",
    "\n",
    "intrinsics = np.array([[fx, 0, cx], [0, fy, cy], [0, 0, 1]])\n",
    "\n",
    "resolution = (320,240)\n",
    "orig_resolution = (1280, 720)\n",
    "#  scale the intrinsics to the resolution of the images\n",
    "intrinsics[0] *= resolution[0] / orig_resolution[0]\n",
    "intrinsics[1] *= resolution[1] / orig_resolution[1]\n",
    "print(intrinsics)\n",
    "\n",
    "### extrinsics\n",
    "# measured using airo-mono\n",
    "\n",
    "\n",
    "\n",
    "extrinsics = np.eye(4)\n",
    "extrinsics[:3, 3] = np.array([0.5477535484731196, -0.4629795496486995, 0.488704467852322])\n",
    "rot_euler = np.array([-2.4050469949280773, -0.05730815549308965, 1.5395790079348801])\n",
    "from scipy.spatial.transform import Rotation as R\n",
    "r = R.from_euler('xyz', rot_euler)\n",
    "extrinsics[:3, :3] = r.as_matrix()\n",
    "print(extrinsics)\n",
    "\n",
    "def project_action_to_pixel_space(action):\n",
    "    eef_pose = np.eye(4)\n",
    "    # rotate 180 degrees around y\n",
    "    # tcp_pos[:3, :3] = np.array([[1, 0, 0], [0, -1, 0], [0, 0, -1]])\n",
    "\n",
    "    # 3D actions: [x,y,z, rxx,rxy,rxz, ryx,ryy,ryz, gripper_width]\n",
    "    # do GS orthonormalization\n",
    "    rx = action[3:6]\n",
    "    ry = action[6:9]\n",
    "    rx = rx / np.linalg.norm(rx)\n",
    "    ry = (ry - np.dot(ry, rx) * rx) \n",
    "    ry = ry / np.linalg.norm(ry)\n",
    "    rz = np.cross(rx, ry)\n",
    "    eef_pose[:3, :3] = np.column_stack((rx, ry, rz))\n",
    "\n",
    "    # translate to action\n",
    "    eef_pose[:3, 3] = action[:3]\n",
    "    \n",
    "    # offset tcp z\n",
    "    tcp_in_eef = np.eye(4)\n",
    "    tcp_in_eef[2, 3] = 0.17\n",
    "    tcp_in_base = eef_pose @ tcp_in_eef\n",
    "\n",
    "    tcp_pose_in_camera = np.linalg.inv(extrinsics) @ tcp_in_base\n",
    "    tcp_pixels = intrinsics @ tcp_pose_in_camera[:3, 3]\n",
    "    tcp_pixels = tcp_pixels / tcp_pixels[2]\n",
    "    return tcp_pixels[:2]\n"
   ]
  },
  {
   "cell_type": "code",
   "execution_count": 11,
   "metadata": {},
   "outputs": [],
   "source": [
    "import matplotlib.pyplot as plt\n",
    "from diffusion_policy.real_world.real_inference_util import get_real_obs_dict\n",
    "def visualize_inference(obs, policy):\n",
    "    gt_actions = obs[\"action\"]\n",
    "    obs = obs[\"obs\"]\n",
    "    # change the images to numpy array\n",
    "    obs[\"camera_0\"] = obs[\"camera_0\"].permute(0, 2, 3, 1).numpy()\n",
    "    obs[\"camera_1\"] = obs[\"camera_1\"].permute(0, 2, 3, 1).numpy()\n",
    "\n",
    "    obs_dict_np = get_real_obs_dict(\n",
    "        env_obs=obs, shape_meta=cfg.task.shape_meta)\n",
    "    for k, v in obs_dict_np.items():\n",
    "        if isinstance(v, np.ndarray):\n",
    "            obs_dict_np[k] = torch.from_numpy(v)\n",
    "        obs_dict_np[k] = obs_dict_np[k].unsqueeze(0).to(device)\n",
    "\n",
    "\n",
    "    # predict actions\n",
    "    actions = policy.predict_action(obs_dict_np)\n",
    "    actions = actions[\"action\"].detach().cpu().numpy()[0]\n",
    "    # project actions next to observations:\n",
    "    plt.plot(actions,label=[\"x^\",\"y^\",\"z^\",\"rxx^\",\"rxy^\",\"rxz^\",\"ryx^\",\"ryy^\",\"ryz^\",\"g^\"], alpha=0.5)\n",
    "    plt.plot(gt_actions, label=[\"x\",\"y\",\"z\",\"rxx\",\"rxy\",\"rxz\",\"ryx\",\"ryy\",\"ryz\",\"g\"], alpha=0.5, linestyle=\"--\")\n",
    "    # give each line a label: x,y,z,rxx,rxy,rzx,ryx,ryy,ryz,gripper_width\n",
    "    \n",
    "    # set legend bottom \n",
    "    plt.legend(loc='center left', bbox_to_anchor=(1, 0.5), shadow=True, ncol=2)\n",
    "    plt.show()\n",
    "    # project actions into pixel space\n",
    "\n",
    "    pix_actions = []\n",
    "    for action in actions:\n",
    "        pix_action = project_action_to_pixel_space(action)\n",
    "        pix_actions.append(pix_action)\n",
    "\n",
    "    pix_actions = np.array(pix_actions)\n",
    "\n",
    "    pix_gt_actions = []\n",
    "    for action in gt_actions:\n",
    "        pix_action = project_action_to_pixel_space(action)\n",
    "        pix_gt_actions.append(pix_action)\n",
    "    pix_gt_actions = np.array(pix_gt_actions)\n",
    "\n",
    "    # visualize \n",
    "\n",
    "    img = obs[\"camera_0\"][0]\n",
    "    # display gt actions and predicted actions side by side\n",
    "    fig, ax = plt.subplots(1, 2, figsize=(10, 5))\n",
    "    ax[0].imshow(img)\n",
    "    ax[0].scatter(pix_gt_actions[..., 0], pix_gt_actions[..., 1], c=range(len(pix_gt_actions)), cmap=\"viridis\")\n",
    "    ax[0].legend([\"GT\"])\n",
    "    ax[1].imshow(img)\n",
    "    ax[1].scatter(pix_actions[..., 0], pix_actions[..., 1], c=range(len(pix_actions)), cmap=\"viridis\")\n",
    "    ax[1].legend([\"Predicted\"])\n",
    "    plt.show()\n",
    "    # return np array imgae of the matplotlib figure \n",
    "    fig.canvas.draw()\n",
    "    img = np.array(fig.canvas.renderer.buffer_rgba())\n",
    "\n",
    "    return img\n",
    "\n"
   ]
  },
  {
   "cell_type": "code",
   "execution_count": 12,
   "metadata": {},
   "outputs": [
    {
     "ename": "RuntimeError",
     "evalue": "Unable to find a valid cuDNN algorithm to run convolution",
     "output_type": "error",
     "traceback": [
      "\u001b[0;31m---------------------------------------------------------------------------\u001b[0m",
      "\u001b[0;31mRuntimeError\u001b[0m                              Traceback (most recent call last)",
      "Cell \u001b[0;32mIn[12], line 7\u001b[0m\n\u001b[1;32m      5\u001b[0m     idx \u001b[38;5;241m=\u001b[39m random\u001b[38;5;241m.\u001b[39mrandint(\u001b[38;5;241m0\u001b[39m, \u001b[38;5;28mlen\u001b[39m(dataset))\n\u001b[1;32m      6\u001b[0m     obs \u001b[38;5;241m=\u001b[39m dataset[idx]\n\u001b[0;32m----> 7\u001b[0m     img \u001b[38;5;241m=\u001b[39m \u001b[43mvisualize_inference\u001b[49m\u001b[43m(\u001b[49m\u001b[43mobs\u001b[49m\u001b[43m,\u001b[49m\u001b[43m \u001b[49m\u001b[43mpolicy\u001b[49m\u001b[43m)\u001b[49m\n\u001b[1;32m      8\u001b[0m     imgs\u001b[38;5;241m.\u001b[39mappend(img)\n\u001b[1;32m     10\u001b[0m \u001b[38;5;66;03m# store as one big image\u001b[39;00m\n",
      "Cell \u001b[0;32mIn[11], line 19\u001b[0m, in \u001b[0;36mvisualize_inference\u001b[0;34m(obs, policy)\u001b[0m\n\u001b[1;32m     15\u001b[0m     obs_dict_np[k] \u001b[38;5;241m=\u001b[39m obs_dict_np[k]\u001b[38;5;241m.\u001b[39munsqueeze(\u001b[38;5;241m0\u001b[39m)\u001b[38;5;241m.\u001b[39mto(device)\n\u001b[1;32m     18\u001b[0m \u001b[38;5;66;03m# predict actions\u001b[39;00m\n\u001b[0;32m---> 19\u001b[0m actions \u001b[38;5;241m=\u001b[39m \u001b[43mpolicy\u001b[49m\u001b[38;5;241;43m.\u001b[39;49m\u001b[43mpredict_action\u001b[49m\u001b[43m(\u001b[49m\u001b[43mobs_dict_np\u001b[49m\u001b[43m)\u001b[49m\n\u001b[1;32m     20\u001b[0m actions \u001b[38;5;241m=\u001b[39m actions[\u001b[38;5;124m\"\u001b[39m\u001b[38;5;124maction\u001b[39m\u001b[38;5;124m\"\u001b[39m]\u001b[38;5;241m.\u001b[39mdetach()\u001b[38;5;241m.\u001b[39mcpu()\u001b[38;5;241m.\u001b[39mnumpy()[\u001b[38;5;241m0\u001b[39m]\n\u001b[1;32m     21\u001b[0m \u001b[38;5;66;03m# project actions next to observations:\u001b[39;00m\n",
      "File \u001b[0;32m~/Code/diffusion_policy/diffusion_policy/policy/diffusion_unet_image_policy.py:148\u001b[0m, in \u001b[0;36mDiffusionUnetImagePolicy.predict_action\u001b[0;34m(self, obs_dict)\u001b[0m\n\u001b[1;32m    145\u001b[0m \u001b[38;5;28;01mif\u001b[39;00m \u001b[38;5;28mself\u001b[39m\u001b[38;5;241m.\u001b[39mobs_as_global_cond:\n\u001b[1;32m    146\u001b[0m     \u001b[38;5;66;03m# condition through global feature\u001b[39;00m\n\u001b[1;32m    147\u001b[0m     this_nobs \u001b[38;5;241m=\u001b[39m dict_apply(nobs, \u001b[38;5;28;01mlambda\u001b[39;00m x: x[:,:To,\u001b[38;5;241m.\u001b[39m\u001b[38;5;241m.\u001b[39m\u001b[38;5;241m.\u001b[39m]\u001b[38;5;241m.\u001b[39mreshape(\u001b[38;5;241m-\u001b[39m\u001b[38;5;241m1\u001b[39m,\u001b[38;5;241m*\u001b[39mx\u001b[38;5;241m.\u001b[39mshape[\u001b[38;5;241m2\u001b[39m:]))\n\u001b[0;32m--> 148\u001b[0m     nobs_features \u001b[38;5;241m=\u001b[39m \u001b[38;5;28;43mself\u001b[39;49m\u001b[38;5;241;43m.\u001b[39;49m\u001b[43mobs_encoder\u001b[49m\u001b[43m(\u001b[49m\u001b[43mthis_nobs\u001b[49m\u001b[43m)\u001b[49m\n\u001b[1;32m    149\u001b[0m     \u001b[38;5;66;03m# reshape back to B, Do\u001b[39;00m\n\u001b[1;32m    150\u001b[0m     global_cond \u001b[38;5;241m=\u001b[39m nobs_features\u001b[38;5;241m.\u001b[39mreshape(B, \u001b[38;5;241m-\u001b[39m\u001b[38;5;241m1\u001b[39m)\n",
      "File \u001b[0;32m~/.conda/envs/robodiff/lib/python3.9/site-packages/torch/nn/modules/module.py:1130\u001b[0m, in \u001b[0;36mModule._call_impl\u001b[0;34m(self, *input, **kwargs)\u001b[0m\n\u001b[1;32m   1126\u001b[0m \u001b[38;5;66;03m# If we don't have any hooks, we want to skip the rest of the logic in\u001b[39;00m\n\u001b[1;32m   1127\u001b[0m \u001b[38;5;66;03m# this function, and just call forward.\u001b[39;00m\n\u001b[1;32m   1128\u001b[0m \u001b[38;5;28;01mif\u001b[39;00m \u001b[38;5;129;01mnot\u001b[39;00m (\u001b[38;5;28mself\u001b[39m\u001b[38;5;241m.\u001b[39m_backward_hooks \u001b[38;5;129;01mor\u001b[39;00m \u001b[38;5;28mself\u001b[39m\u001b[38;5;241m.\u001b[39m_forward_hooks \u001b[38;5;129;01mor\u001b[39;00m \u001b[38;5;28mself\u001b[39m\u001b[38;5;241m.\u001b[39m_forward_pre_hooks \u001b[38;5;129;01mor\u001b[39;00m _global_backward_hooks\n\u001b[1;32m   1129\u001b[0m         \u001b[38;5;129;01mor\u001b[39;00m _global_forward_hooks \u001b[38;5;129;01mor\u001b[39;00m _global_forward_pre_hooks):\n\u001b[0;32m-> 1130\u001b[0m     \u001b[38;5;28;01mreturn\u001b[39;00m \u001b[43mforward_call\u001b[49m\u001b[43m(\u001b[49m\u001b[38;5;241;43m*\u001b[39;49m\u001b[38;5;28;43minput\u001b[39;49m\u001b[43m,\u001b[49m\u001b[43m \u001b[49m\u001b[38;5;241;43m*\u001b[39;49m\u001b[38;5;241;43m*\u001b[39;49m\u001b[43mkwargs\u001b[49m\u001b[43m)\u001b[49m\n\u001b[1;32m   1131\u001b[0m \u001b[38;5;66;03m# Do not call functions when jit is used\u001b[39;00m\n\u001b[1;32m   1132\u001b[0m full_backward_hooks, non_full_backward_hooks \u001b[38;5;241m=\u001b[39m [], []\n",
      "File \u001b[0;32m~/Code/diffusion_policy/diffusion_policy/model/vision/multi_image_obs_encoder.py:168\u001b[0m, in \u001b[0;36mMultiImageObsEncoder.forward\u001b[0;34m(self, obs_dict)\u001b[0m\n\u001b[1;32m    166\u001b[0m         \u001b[38;5;28;01massert\u001b[39;00m img\u001b[38;5;241m.\u001b[39mshape[\u001b[38;5;241m1\u001b[39m:] \u001b[38;5;241m==\u001b[39m \u001b[38;5;28mself\u001b[39m\u001b[38;5;241m.\u001b[39mkey_shape_map[key]\n\u001b[1;32m    167\u001b[0m         img \u001b[38;5;241m=\u001b[39m \u001b[38;5;28mself\u001b[39m\u001b[38;5;241m.\u001b[39mkey_transform_map[key](img)\n\u001b[0;32m--> 168\u001b[0m         feature \u001b[38;5;241m=\u001b[39m \u001b[38;5;28;43mself\u001b[39;49m\u001b[38;5;241;43m.\u001b[39;49m\u001b[43mkey_model_map\u001b[49m\u001b[43m[\u001b[49m\u001b[43mkey\u001b[49m\u001b[43m]\u001b[49m\u001b[43m(\u001b[49m\u001b[43mimg\u001b[49m\u001b[43m)\u001b[49m\n\u001b[1;32m    169\u001b[0m         features\u001b[38;5;241m.\u001b[39mappend(feature)\n\u001b[1;32m    171\u001b[0m \u001b[38;5;66;03m# process lowdim input\u001b[39;00m\n",
      "File \u001b[0;32m~/.conda/envs/robodiff/lib/python3.9/site-packages/torch/nn/modules/module.py:1130\u001b[0m, in \u001b[0;36mModule._call_impl\u001b[0;34m(self, *input, **kwargs)\u001b[0m\n\u001b[1;32m   1126\u001b[0m \u001b[38;5;66;03m# If we don't have any hooks, we want to skip the rest of the logic in\u001b[39;00m\n\u001b[1;32m   1127\u001b[0m \u001b[38;5;66;03m# this function, and just call forward.\u001b[39;00m\n\u001b[1;32m   1128\u001b[0m \u001b[38;5;28;01mif\u001b[39;00m \u001b[38;5;129;01mnot\u001b[39;00m (\u001b[38;5;28mself\u001b[39m\u001b[38;5;241m.\u001b[39m_backward_hooks \u001b[38;5;129;01mor\u001b[39;00m \u001b[38;5;28mself\u001b[39m\u001b[38;5;241m.\u001b[39m_forward_hooks \u001b[38;5;129;01mor\u001b[39;00m \u001b[38;5;28mself\u001b[39m\u001b[38;5;241m.\u001b[39m_forward_pre_hooks \u001b[38;5;129;01mor\u001b[39;00m _global_backward_hooks\n\u001b[1;32m   1129\u001b[0m         \u001b[38;5;129;01mor\u001b[39;00m _global_forward_hooks \u001b[38;5;129;01mor\u001b[39;00m _global_forward_pre_hooks):\n\u001b[0;32m-> 1130\u001b[0m     \u001b[38;5;28;01mreturn\u001b[39;00m \u001b[43mforward_call\u001b[49m\u001b[43m(\u001b[49m\u001b[38;5;241;43m*\u001b[39;49m\u001b[38;5;28;43minput\u001b[39;49m\u001b[43m,\u001b[49m\u001b[43m \u001b[49m\u001b[38;5;241;43m*\u001b[39;49m\u001b[38;5;241;43m*\u001b[39;49m\u001b[43mkwargs\u001b[49m\u001b[43m)\u001b[49m\n\u001b[1;32m   1131\u001b[0m \u001b[38;5;66;03m# Do not call functions when jit is used\u001b[39;00m\n\u001b[1;32m   1132\u001b[0m full_backward_hooks, non_full_backward_hooks \u001b[38;5;241m=\u001b[39m [], []\n",
      "File \u001b[0;32m~/Code/diffusion_policy/diffusion_policy/model/vision/timm_model.py:176\u001b[0m, in \u001b[0;36mTimmRGBModel.forward\u001b[0;34m(self, img_batch)\u001b[0m\n\u001b[1;32m    173\u001b[0m \u001b[38;5;28;01mdef\u001b[39;00m\u001b[38;5;250m \u001b[39m\u001b[38;5;21mforward\u001b[39m(\u001b[38;5;28mself\u001b[39m,img_batch):\n\u001b[1;32m    174\u001b[0m \n\u001b[1;32m    175\u001b[0m     \u001b[38;5;66;03m# B* To, C, H, W batch size\u001b[39;00m\n\u001b[0;32m--> 176\u001b[0m     raw_features \u001b[38;5;241m=\u001b[39m \u001b[38;5;28;43mself\u001b[39;49m\u001b[38;5;241;43m.\u001b[39;49m\u001b[43mmodel\u001b[49m\u001b[43m(\u001b[49m\u001b[43mimg_batch\u001b[49m\u001b[43m)\u001b[49m\n\u001b[1;32m    177\u001b[0m     features \u001b[38;5;241m=\u001b[39m \u001b[38;5;28mself\u001b[39m\u001b[38;5;241m.\u001b[39maggregate_feature(raw_features)\n\u001b[1;32m    178\u001b[0m     \u001b[38;5;28;01massert\u001b[39;00m \u001b[38;5;28mlen\u001b[39m(features\u001b[38;5;241m.\u001b[39mshape) \u001b[38;5;241m==\u001b[39m \u001b[38;5;241m2\u001b[39m\n",
      "File \u001b[0;32m~/.conda/envs/robodiff/lib/python3.9/site-packages/torch/nn/modules/module.py:1130\u001b[0m, in \u001b[0;36mModule._call_impl\u001b[0;34m(self, *input, **kwargs)\u001b[0m\n\u001b[1;32m   1126\u001b[0m \u001b[38;5;66;03m# If we don't have any hooks, we want to skip the rest of the logic in\u001b[39;00m\n\u001b[1;32m   1127\u001b[0m \u001b[38;5;66;03m# this function, and just call forward.\u001b[39;00m\n\u001b[1;32m   1128\u001b[0m \u001b[38;5;28;01mif\u001b[39;00m \u001b[38;5;129;01mnot\u001b[39;00m (\u001b[38;5;28mself\u001b[39m\u001b[38;5;241m.\u001b[39m_backward_hooks \u001b[38;5;129;01mor\u001b[39;00m \u001b[38;5;28mself\u001b[39m\u001b[38;5;241m.\u001b[39m_forward_hooks \u001b[38;5;129;01mor\u001b[39;00m \u001b[38;5;28mself\u001b[39m\u001b[38;5;241m.\u001b[39m_forward_pre_hooks \u001b[38;5;129;01mor\u001b[39;00m _global_backward_hooks\n\u001b[1;32m   1129\u001b[0m         \u001b[38;5;129;01mor\u001b[39;00m _global_forward_hooks \u001b[38;5;129;01mor\u001b[39;00m _global_forward_pre_hooks):\n\u001b[0;32m-> 1130\u001b[0m     \u001b[38;5;28;01mreturn\u001b[39;00m \u001b[43mforward_call\u001b[49m\u001b[43m(\u001b[49m\u001b[38;5;241;43m*\u001b[39;49m\u001b[38;5;28;43minput\u001b[39;49m\u001b[43m,\u001b[49m\u001b[43m \u001b[49m\u001b[38;5;241;43m*\u001b[39;49m\u001b[38;5;241;43m*\u001b[39;49m\u001b[43mkwargs\u001b[49m\u001b[43m)\u001b[49m\n\u001b[1;32m   1131\u001b[0m \u001b[38;5;66;03m# Do not call functions when jit is used\u001b[39;00m\n\u001b[1;32m   1132\u001b[0m full_backward_hooks, non_full_backward_hooks \u001b[38;5;241m=\u001b[39m [], []\n",
      "File \u001b[0;32m~/.conda/envs/robodiff/lib/python3.9/site-packages/torch/nn/modules/container.py:139\u001b[0m, in \u001b[0;36mSequential.forward\u001b[0;34m(self, input)\u001b[0m\n\u001b[1;32m    137\u001b[0m \u001b[38;5;28;01mdef\u001b[39;00m\u001b[38;5;250m \u001b[39m\u001b[38;5;21mforward\u001b[39m(\u001b[38;5;28mself\u001b[39m, \u001b[38;5;28minput\u001b[39m):\n\u001b[1;32m    138\u001b[0m     \u001b[38;5;28;01mfor\u001b[39;00m module \u001b[38;5;129;01min\u001b[39;00m \u001b[38;5;28mself\u001b[39m:\n\u001b[0;32m--> 139\u001b[0m         \u001b[38;5;28minput\u001b[39m \u001b[38;5;241m=\u001b[39m \u001b[43mmodule\u001b[49m\u001b[43m(\u001b[49m\u001b[38;5;28;43minput\u001b[39;49m\u001b[43m)\u001b[49m\n\u001b[1;32m    140\u001b[0m     \u001b[38;5;28;01mreturn\u001b[39;00m \u001b[38;5;28minput\u001b[39m\n",
      "File \u001b[0;32m~/.conda/envs/robodiff/lib/python3.9/site-packages/torch/nn/modules/module.py:1130\u001b[0m, in \u001b[0;36mModule._call_impl\u001b[0;34m(self, *input, **kwargs)\u001b[0m\n\u001b[1;32m   1126\u001b[0m \u001b[38;5;66;03m# If we don't have any hooks, we want to skip the rest of the logic in\u001b[39;00m\n\u001b[1;32m   1127\u001b[0m \u001b[38;5;66;03m# this function, and just call forward.\u001b[39;00m\n\u001b[1;32m   1128\u001b[0m \u001b[38;5;28;01mif\u001b[39;00m \u001b[38;5;129;01mnot\u001b[39;00m (\u001b[38;5;28mself\u001b[39m\u001b[38;5;241m.\u001b[39m_backward_hooks \u001b[38;5;129;01mor\u001b[39;00m \u001b[38;5;28mself\u001b[39m\u001b[38;5;241m.\u001b[39m_forward_hooks \u001b[38;5;129;01mor\u001b[39;00m \u001b[38;5;28mself\u001b[39m\u001b[38;5;241m.\u001b[39m_forward_pre_hooks \u001b[38;5;129;01mor\u001b[39;00m _global_backward_hooks\n\u001b[1;32m   1129\u001b[0m         \u001b[38;5;129;01mor\u001b[39;00m _global_forward_hooks \u001b[38;5;129;01mor\u001b[39;00m _global_forward_pre_hooks):\n\u001b[0;32m-> 1130\u001b[0m     \u001b[38;5;28;01mreturn\u001b[39;00m \u001b[43mforward_call\u001b[49m\u001b[43m(\u001b[49m\u001b[38;5;241;43m*\u001b[39;49m\u001b[38;5;28;43minput\u001b[39;49m\u001b[43m,\u001b[49m\u001b[43m \u001b[49m\u001b[38;5;241;43m*\u001b[39;49m\u001b[38;5;241;43m*\u001b[39;49m\u001b[43mkwargs\u001b[49m\u001b[43m)\u001b[49m\n\u001b[1;32m   1131\u001b[0m \u001b[38;5;66;03m# Do not call functions when jit is used\u001b[39;00m\n\u001b[1;32m   1132\u001b[0m full_backward_hooks, non_full_backward_hooks \u001b[38;5;241m=\u001b[39m [], []\n",
      "File \u001b[0;32m~/.conda/envs/robodiff/lib/python3.9/site-packages/torch/nn/modules/conv.py:457\u001b[0m, in \u001b[0;36mConv2d.forward\u001b[0;34m(self, input)\u001b[0m\n\u001b[1;32m    456\u001b[0m \u001b[38;5;28;01mdef\u001b[39;00m\u001b[38;5;250m \u001b[39m\u001b[38;5;21mforward\u001b[39m(\u001b[38;5;28mself\u001b[39m, \u001b[38;5;28minput\u001b[39m: Tensor) \u001b[38;5;241m-\u001b[39m\u001b[38;5;241m>\u001b[39m Tensor:\n\u001b[0;32m--> 457\u001b[0m     \u001b[38;5;28;01mreturn\u001b[39;00m \u001b[38;5;28;43mself\u001b[39;49m\u001b[38;5;241;43m.\u001b[39;49m\u001b[43m_conv_forward\u001b[49m\u001b[43m(\u001b[49m\u001b[38;5;28;43minput\u001b[39;49m\u001b[43m,\u001b[49m\u001b[43m \u001b[49m\u001b[38;5;28;43mself\u001b[39;49m\u001b[38;5;241;43m.\u001b[39;49m\u001b[43mweight\u001b[49m\u001b[43m,\u001b[49m\u001b[43m \u001b[49m\u001b[38;5;28;43mself\u001b[39;49m\u001b[38;5;241;43m.\u001b[39;49m\u001b[43mbias\u001b[49m\u001b[43m)\u001b[49m\n",
      "File \u001b[0;32m~/.conda/envs/robodiff/lib/python3.9/site-packages/torch/nn/modules/conv.py:453\u001b[0m, in \u001b[0;36mConv2d._conv_forward\u001b[0;34m(self, input, weight, bias)\u001b[0m\n\u001b[1;32m    449\u001b[0m \u001b[38;5;28;01mif\u001b[39;00m \u001b[38;5;28mself\u001b[39m\u001b[38;5;241m.\u001b[39mpadding_mode \u001b[38;5;241m!=\u001b[39m \u001b[38;5;124m'\u001b[39m\u001b[38;5;124mzeros\u001b[39m\u001b[38;5;124m'\u001b[39m:\n\u001b[1;32m    450\u001b[0m     \u001b[38;5;28;01mreturn\u001b[39;00m F\u001b[38;5;241m.\u001b[39mconv2d(F\u001b[38;5;241m.\u001b[39mpad(\u001b[38;5;28minput\u001b[39m, \u001b[38;5;28mself\u001b[39m\u001b[38;5;241m.\u001b[39m_reversed_padding_repeated_twice, mode\u001b[38;5;241m=\u001b[39m\u001b[38;5;28mself\u001b[39m\u001b[38;5;241m.\u001b[39mpadding_mode),\n\u001b[1;32m    451\u001b[0m                     weight, bias, \u001b[38;5;28mself\u001b[39m\u001b[38;5;241m.\u001b[39mstride,\n\u001b[1;32m    452\u001b[0m                     _pair(\u001b[38;5;241m0\u001b[39m), \u001b[38;5;28mself\u001b[39m\u001b[38;5;241m.\u001b[39mdilation, \u001b[38;5;28mself\u001b[39m\u001b[38;5;241m.\u001b[39mgroups)\n\u001b[0;32m--> 453\u001b[0m \u001b[38;5;28;01mreturn\u001b[39;00m \u001b[43mF\u001b[49m\u001b[38;5;241;43m.\u001b[39;49m\u001b[43mconv2d\u001b[49m\u001b[43m(\u001b[49m\u001b[38;5;28;43minput\u001b[39;49m\u001b[43m,\u001b[49m\u001b[43m \u001b[49m\u001b[43mweight\u001b[49m\u001b[43m,\u001b[49m\u001b[43m \u001b[49m\u001b[43mbias\u001b[49m\u001b[43m,\u001b[49m\u001b[43m \u001b[49m\u001b[38;5;28;43mself\u001b[39;49m\u001b[38;5;241;43m.\u001b[39;49m\u001b[43mstride\u001b[49m\u001b[43m,\u001b[49m\n\u001b[1;32m    454\u001b[0m \u001b[43m                \u001b[49m\u001b[38;5;28;43mself\u001b[39;49m\u001b[38;5;241;43m.\u001b[39;49m\u001b[43mpadding\u001b[49m\u001b[43m,\u001b[49m\u001b[43m \u001b[49m\u001b[38;5;28;43mself\u001b[39;49m\u001b[38;5;241;43m.\u001b[39;49m\u001b[43mdilation\u001b[49m\u001b[43m,\u001b[49m\u001b[43m \u001b[49m\u001b[38;5;28;43mself\u001b[39;49m\u001b[38;5;241;43m.\u001b[39;49m\u001b[43mgroups\u001b[49m\u001b[43m)\u001b[49m\n",
      "\u001b[0;31mRuntimeError\u001b[0m: Unable to find a valid cuDNN algorithm to run convolution"
     ]
    }
   ],
   "source": [
    "# sample 20 random samples and visualize\n",
    "import random\n",
    "imgs = []\n",
    "for i in range(2):\n",
    "    idx = random.randint(0, len(dataset))\n",
    "    obs = dataset[idx]\n",
    "    img = visualize_inference(obs, policy)\n",
    "    imgs.append(img)\n",
    "\n",
    "# store as one big image\n",
    "import cv2\n",
    "img = cv2.vconcat(imgs)\n",
    "# convert to bgr\n",
    "img = cv2.cvtColor(img, cv2.COLOR_RGBA2BGRA)\n",
    "cv2.imwrite(\"inference_results.png\", img)"
   ]
  },
  {
   "cell_type": "code",
   "execution_count": null,
   "metadata": {},
   "outputs": [],
   "source": [
    "idx = 0\n",
    "\n",
    "for i in range(idx,idx+100,10):\n",
    "    obs = dataset[i]\n",
    "    img = visualize_inference(obs, policy)\n"
   ]
  },
  {
   "cell_type": "code",
   "execution_count": null,
   "metadata": {},
   "outputs": [],
   "source": []
  },
  {
   "cell_type": "code",
   "execution_count": null,
   "metadata": {},
   "outputs": [],
   "source": [
    "\n"
   ]
  }
 ],
 "metadata": {
  "kernelspec": {
   "display_name": "Python 3",
   "language": "python",
   "name": "python3"
  },
  "language_info": {
   "codemirror_mode": {
    "name": "ipython",
    "version": 3
   },
   "file_extension": ".py",
   "mimetype": "text/x-python",
   "name": "python",
   "nbconvert_exporter": "python",
   "pygments_lexer": "ipython3",
   "version": "3.9.18"
  }
 },
 "nbformat": 4,
 "nbformat_minor": 2
}
