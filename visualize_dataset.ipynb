{
 "cells": [
  {
   "cell_type": "code",
   "execution_count": null,
   "metadata": {},
   "outputs": [],
   "source": [
    "from diffusion_policy.dataset.real_image_dataset import RealImageDataset"
   ]
  },
  {
   "cell_type": "code",
   "execution_count": null,
   "metadata": {},
   "outputs": [],
   "source": [
    "dataset_path = \"/home/tlips/Code/diffusion_policy/data/demo_place-cb-val\"\n",
    "import os \n",
    "os.path.exists(dataset_path)\n"
   ]
  },
  {
   "cell_type": "code",
   "execution_count": null,
   "metadata": {},
   "outputs": [],
   "source": [
    "n_latency_steps = 0\n",
    "n_obs_steps = 2\n",
    "n_action_steps = 8\n",
    "horizon = 16\n",
    "\n",
    "shape_meta = {\n",
    "    \"obs\": {\n",
    "        \"camera_0\": {\n",
    "            \"shape\": [3, 224, 224],\n",
    "            \"type\": \"rgb\"\n",
    "        },\n",
    "        \"camera_1\": {\n",
    "            \"shape\": [3, 224, 224],\n",
    "            \"type\": \"rgb\"\n",
    "        },\n",
    "        \"robot_eef_pose_6d_rot\": {\n",
    "            \"shape\": [9],\n",
    "            \"type\": \"low_dim\"\n",
    "        },\n",
    "        \"gripper_width\" :{\n",
    "            \"shape\": [1],\n",
    "            \"type\": \"low_dim\",\n",
    "        }\n",
    "    },\n",
    "    \"action\": {\n",
    "        \"shape\": [10]\n",
    "    }\n",
    "}\n",
    "\n",
    "from omegaconf import OmegaConf\n",
    "shape_meta = OmegaConf.create(shape_meta)\n",
    "\n",
    "dataset = RealImageDataset(shape_meta=shape_meta, dataset_path=dataset_path, horizon=horizon, pad_before=n_obs_steps-1+n_latency_steps, pad_after=n_action_steps-1, n_obs_steps=n_obs_steps, n_latency_steps=n_latency_steps, use_cache=True, seed=42, val_ratio=0.00, max_train_episodes=None, delta_action=False)"
   ]
  },
  {
   "cell_type": "code",
   "execution_count": null,
   "metadata": {},
   "outputs": [],
   "source": [
    "\n",
    "dataset.replay_buffer"
   ]
  },
  {
   "cell_type": "code",
   "execution_count": null,
   "metadata": {},
   "outputs": [],
   "source": [
    "dataset.get_validation_dataset().replay_buffer"
   ]
  },
  {
   "cell_type": "code",
   "execution_count": null,
   "metadata": {},
   "outputs": [],
   "source": [
    "print(list(dataset.replay_buffer.meta[\"episode_ends\"]))"
   ]
  },
  {
   "cell_type": "code",
   "execution_count": null,
   "metadata": {},
   "outputs": [],
   "source": [
    "buffer = dataset.replay_buffer\n",
    "for episode_idx in range(0,len(buffer.meta.episode_ends),10):\n",
    "    print(f\"Episode {episode_idx}\")\n",
    "    episode = buffer.get_episode(episode_idx)\n",
    "    # get all images \"camera_0 from the episode\n",
    "    images = episode[\"camera_0\"]\n",
    "    # show first image and last image\n",
    "    import matplotlib.pyplot as plt\n",
    "    # side by side\n",
    "    fig, ax = plt.subplots(1, 3)\n",
    "    ax[0].imshow(images[0])\n",
    "    ax[1].imshow(images[-1])\n",
    "    # display state and action \n",
    "    actions = episode[\"action\"]\n",
    "    eef_pose = episode[\"robot_eef_pose_6d_rot\"]\n",
    "    print(eef_pose[0])\n",
    "    ax[2].plot(actions)\n",
    "    ax[2].plot(eef_pose)\n",
    "    plt.show()\n",
    "\n"
   ]
  },
  {
   "cell_type": "code",
   "execution_count": null,
   "metadata": {},
   "outputs": [],
   "source": [
    "# detailed plot of observations vs actions\n",
    "import numpy as np\n",
    "import matplotlib.pyplot as plt\n",
    "buffer = dataset.replay_buffer\n",
    "episode_idx = 0\n",
    "episode = buffer.get_episode(episode_idx)\n",
    "actions = episode[\"action\"]\n",
    "eef_pose = episode[\"robot_eef_pose_6d_rot\"]\n",
    "print(eef_pose.shape)\n",
    "print(actions.shape)\n",
    "g = episode[\"gripper_width\"]\n",
    "# add new dim \n",
    "print(g.shape)\n",
    "plt.plot(actions[:, 3])\n",
    "plt.plot(eef_pose[:, 3])\n",
    "plt.legend([\"action\", \"eef_pose\"])\n"
   ]
  },
  {
   "cell_type": "code",
   "execution_count": null,
   "metadata": {},
   "outputs": [],
   "source": []
  }
 ],
 "metadata": {
  "kernelspec": {
   "display_name": "Python 3",
   "language": "python",
   "name": "python3"
  },
  "language_info": {
   "codemirror_mode": {
    "name": "ipython",
    "version": 3
   },
   "file_extension": ".py",
   "mimetype": "text/x-python",
   "name": "python",
   "nbconvert_exporter": "python",
   "pygments_lexer": "ipython3",
   "version": "3.9.18"
  }
 },
 "nbformat": 4,
 "nbformat_minor": 2
}
